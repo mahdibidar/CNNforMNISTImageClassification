{
 "cells": [
  {
   "cell_type": "code",
   "execution_count": 58,
   "metadata": {},
   "outputs": [],
   "source": [
    "#Required Libraries\n",
    "#______________________________________\n",
    "import tensorflow as tf\n",
    "from tensorflow import keras\n",
    "import numpy as np\n",
    "from keras import optimizers\n",
    "from keras.optimizers import adam\n",
    "import matplotlib.pyplot as plt\n",
    "import pandas as pd"
   ]
  },
  {
   "cell_type": "markdown",
   "metadata": {},
   "source": [
    "# Load Images from MNIS (fashion_mnist) dataset\n",
    "\n",
    "-- Load the Images to traning and testing sets "
   ]
  },
  {
   "cell_type": "code",
   "execution_count": 47,
   "metadata": {},
   "outputs": [],
   "source": [
    "\n",
    "Raw_IMG = keras.datasets.fashion_mnist\n",
    "(X_TRAIN, y_TRAIN), (X_TEST, y_TEST) = Raw_IMG.load_data()\n"
   ]
  },
  {
   "cell_type": "markdown",
   "metadata": {},
   "source": [
    "# Normalizaing and avoiding overfitting\n",
    "\n",
    "Here we Normalize Images by scaling their pixels intensities to [0,1]\n",
    "\n",
    "In order to avoid overfitting, we split the data and keep a large portion of the data for training and the rest for validation"
   ]
  },
  {
   "cell_type": "code",
   "execution_count": 48,
   "metadata": {},
   "outputs": [],
   "source": [
    "\n",
    "X_Val, X_train = X_TRAIN[:5000] / 255.0, X_TRAIN[5000:] / 255.0\n",
    "y_Val, y_train = y_TRAIN[:5000], y_TRAIN[5000:]\n"
   ]
  },
  {
   "cell_type": "markdown",
   "metadata": {},
   "source": [
    "# Reshaping input Images\n",
    "\n",
    "size of the images in MNIST dataset in [28*28], however our model input is [28*28*1]\n",
    "therefore we changes the dimension of the traing and test sets."
   ]
  },
  {
   "cell_type": "code",
   "execution_count": 67,
   "metadata": {},
   "outputs": [],
   "source": [
    "X_Val= X_Val.reshape((X_Val.shape[0], 28, 28, 1))\n",
    "X_train= X_train.reshape((X_train.shape[0], 28, 28, 1))\n",
    "X_test= X_test.reshape((X_test.shape[0], 28, 28, 1))"
   ]
  },
  {
   "cell_type": "markdown",
   "metadata": {},
   "source": [
    "# Defining the name of classes\n",
    "The goal of this project is to define the class that an imported image belongs to.\n",
    "\n",
    "We have 10 classes of oject in fashion_mnist dataset."
   ]
  },
  {
   "cell_type": "code",
   "execution_count": 50,
   "metadata": {},
   "outputs": [],
   "source": [
    "Objects = [\"T-shirt/top\",\"Trouser\",\"Pullover\",\"Dress\",\"Coat\",\"Sandal\",\"Shirt\",\"Sneaker\",\"Bag\",\"Ankle boot\"]\n"
   ]
  },
  {
   "cell_type": "markdown",
   "metadata": {},
   "source": [
    "# Defining the Model\n",
    "We use Convolutional Neural Network (five layers) with three pooling layers (MaxPooling layers).\n",
    "\n",
    "paddint is set to SAME, to let the convolutional layers to use 0 padding.\n",
    "\n",
    "The goal of using pooling layers is to reduce the computational cost and also avoiding overfitting.\n",
    "\n",
    "We use relu as the activation funtion.\n",
    "\n",
    "We also use kernel_initializer='he_uniform' inorder to avoid gradiant vanishing/exploding problem\n"
   ]
  },
  {
   "cell_type": "code",
   "execution_count": 51,
   "metadata": {},
   "outputs": [],
   "source": [
    "model=keras.models.Sequential([keras.layers.Conv2D(64, 7, activation=\"relu\", padding=\"SAME\",kernel_initializer='he_uniform',input_shape=[28, 28,1]),\n",
    "                              keras.layers.MaxPooling2D(2),\n",
    "                              keras.layers.Conv2D(128,3, activation=\"relu\", padding=\"SAME\",kernel_initializer='he_uniform'),\n",
    "                              keras.layers.Conv2D(128,3, activation=\"relu\", padding=\"SAME\",kernel_initializer='he_uniform'),\n",
    "                              keras.layers.MaxPooling2D(2),\n",
    "                              keras.layers.Conv2D(256, 3, activation=\"relu\", padding=\"SAME\",kernel_initializer='he_uniform'),\n",
    "                              keras.layers.Conv2D(256, 3, activation=\"relu\", padding=\"SAME\",kernel_initializer='he_uniform'),\n",
    "                              keras.layers.MaxPooling2D(2),\n",
    "                              keras.layers.Flatten(),\n",
    "                              keras.layers.Dense(128, activation=\"relu\",kernel_initializer='he_uniform'),\n",
    "                              keras.layers.Dropout(0.5),\n",
    "                              keras.layers.Dense(64, activation=\"relu\",kernel_initializer='he_uniform'),\n",
    "                              keras.layers.Dropout(0.5),\n",
    "                              keras.layers.Dense(10, activation=\"softmax\")\n",
    "                             ])"
   ]
  },
  {
   "cell_type": "markdown",
   "metadata": {},
   "source": [
    "# Compiling the Model\n",
    "We use stochastic gradiant descent with learning rate of 1e-3 and momentum 0.3.\n",
    "\n"
   ]
  },
  {
   "cell_type": "code",
   "execution_count": 52,
   "metadata": {},
   "outputs": [],
   "source": [
    "#set optimizer\n",
    "Optimizer = tf.keras.optimizers.SGD(lr=1e-3, momentum=0.3, decay=0, nesterov=False)\n",
    "\n",
    "#compile the model\n",
    "model.compile(loss=tf.keras.losses.binary_crossentropy,\n",
    "                  optimizer=Optimizer,\n",
    "                  metrics=['accuracy'])"
   ]
  },
  {
   "cell_type": "code",
   "execution_count": 53,
   "metadata": {},
   "outputs": [],
   "source": [
    "model.compile(loss=\"sparse_categorical_crossentropy\",\n",
    "optimizer=\"sgd\",\n",
    "metrics=[\"accuracy\"])\n"
   ]
  },
  {
   "cell_type": "code",
   "execution_count": 54,
   "metadata": {},
   "outputs": [
    {
     "name": "stdout",
     "output_type": "stream",
     "text": [
      "Model: \"sequential_2\"\n",
      "_________________________________________________________________\n",
      "Layer (type)                 Output Shape              Param #   \n",
      "=================================================================\n",
      "conv2d_10 (Conv2D)           (None, 28, 28, 64)        3200      \n",
      "_________________________________________________________________\n",
      "max_pooling2d_6 (MaxPooling2 (None, 14, 14, 64)        0         \n",
      "_________________________________________________________________\n",
      "conv2d_11 (Conv2D)           (None, 14, 14, 128)       73856     \n",
      "_________________________________________________________________\n",
      "conv2d_12 (Conv2D)           (None, 14, 14, 128)       147584    \n",
      "_________________________________________________________________\n",
      "max_pooling2d_7 (MaxPooling2 (None, 7, 7, 128)         0         \n",
      "_________________________________________________________________\n",
      "conv2d_13 (Conv2D)           (None, 7, 7, 256)         295168    \n",
      "_________________________________________________________________\n",
      "conv2d_14 (Conv2D)           (None, 7, 7, 256)         590080    \n",
      "_________________________________________________________________\n",
      "max_pooling2d_8 (MaxPooling2 (None, 3, 3, 256)         0         \n",
      "_________________________________________________________________\n",
      "flatten_2 (Flatten)          (None, 2304)              0         \n",
      "_________________________________________________________________\n",
      "dense_6 (Dense)              (None, 128)               295040    \n",
      "_________________________________________________________________\n",
      "dropout_4 (Dropout)          (None, 128)               0         \n",
      "_________________________________________________________________\n",
      "dense_7 (Dense)              (None, 64)                8256      \n",
      "_________________________________________________________________\n",
      "dropout_5 (Dropout)          (None, 64)                0         \n",
      "_________________________________________________________________\n",
      "dense_8 (Dense)              (None, 10)                650       \n",
      "=================================================================\n",
      "Total params: 1,413,834\n",
      "Trainable params: 1,413,834\n",
      "Non-trainable params: 0\n",
      "_________________________________________________________________\n"
     ]
    }
   ],
   "source": [
    "model.summary()\n"
   ]
  },
  {
   "cell_type": "code",
   "execution_count": 73,
   "metadata": {},
   "outputs": [
    {
     "name": "stdout",
     "output_type": "stream",
     "text": [
      "Train on 55000 samples, validate on 5000 samples\n",
      "Epoch 1/30\n",
      "55000/55000 [==============================] - 216s 4ms/sample - loss: 0.3642 - acc: 0.8752 - val_loss: 0.2742 - val_acc: 0.9016\n",
      "Epoch 2/30\n",
      "55000/55000 [==============================] - 213s 4ms/sample - loss: 0.3414 - acc: 0.8830 - val_loss: 0.2687 - val_acc: 0.9014\n",
      "Epoch 3/30\n",
      "55000/55000 [==============================] - 218s 4ms/sample - loss: 0.3253 - acc: 0.8910 - val_loss: 0.2580 - val_acc: 0.9050\n",
      "Epoch 4/30\n",
      "55000/55000 [==============================] - 219s 4ms/sample - loss: 0.3079 - acc: 0.8951 - val_loss: 0.2848 - val_acc: 0.9002\n",
      "Epoch 5/30\n",
      "55000/55000 [==============================] - 215s 4ms/sample - loss: 0.2921 - acc: 0.9018 - val_loss: 0.2573 - val_acc: 0.9076\n",
      "Epoch 6/30\n",
      "55000/55000 [==============================] - 218s 4ms/sample - loss: 0.2803 - acc: 0.9064 - val_loss: 0.2619 - val_acc: 0.9092\n",
      "Epoch 7/30\n",
      "55000/55000 [==============================] - 214s 4ms/sample - loss: 0.2670 - acc: 0.9095 - val_loss: 0.2427 - val_acc: 0.9128\n",
      "Epoch 8/30\n",
      "55000/55000 [==============================] - 213s 4ms/sample - loss: 0.2566 - acc: 0.9135 - val_loss: 0.2346 - val_acc: 0.9146\n",
      "Epoch 9/30\n",
      "55000/55000 [==============================] - 213s 4ms/sample - loss: 0.2428 - acc: 0.9180 - val_loss: 0.2323 - val_acc: 0.9142\n",
      "Epoch 10/30\n",
      "55000/55000 [==============================] - 213s 4ms/sample - loss: 0.2312 - acc: 0.9215 - val_loss: 0.2399 - val_acc: 0.9152\n",
      "Epoch 11/30\n",
      "55000/55000 [==============================] - 213s 4ms/sample - loss: 0.2214 - acc: 0.9243 - val_loss: 0.2580 - val_acc: 0.9084\n",
      "Epoch 12/30\n",
      "55000/55000 [==============================] - 213s 4ms/sample - loss: 0.2111 - acc: 0.9294 - val_loss: 0.2302 - val_acc: 0.9192\n",
      "Epoch 13/30\n",
      "55000/55000 [==============================] - 213s 4ms/sample - loss: 0.2022 - acc: 0.9332 - val_loss: 0.2373 - val_acc: 0.9162\n",
      "Epoch 14/30\n",
      "55000/55000 [==============================] - 213s 4ms/sample - loss: 0.1940 - acc: 0.9344 - val_loss: 0.2415 - val_acc: 0.9170\n",
      "Epoch 15/30\n",
      "55000/55000 [==============================] - 213s 4ms/sample - loss: 0.1829 - acc: 0.9386 - val_loss: 0.2203 - val_acc: 0.9238\n",
      "Epoch 16/30\n",
      "55000/55000 [==============================] - 213s 4ms/sample - loss: 0.1725 - acc: 0.9425 - val_loss: 0.2374 - val_acc: 0.9194\n",
      "Epoch 17/30\n",
      "55000/55000 [==============================] - 216s 4ms/sample - loss: 0.1660 - acc: 0.9432 - val_loss: 0.2252 - val_acc: 0.9256\n",
      "Epoch 18/30\n",
      "55000/55000 [==============================] - 213s 4ms/sample - loss: 0.1579 - acc: 0.9463 - val_loss: 0.2411 - val_acc: 0.9188\n",
      "Epoch 19/30\n",
      "55000/55000 [==============================] - 202s 4ms/sample - loss: 0.1433 - acc: 0.9518 - val_loss: 0.2360 - val_acc: 0.9250\n",
      "Epoch 21/30\n",
      "55000/55000 [==============================] - 203s 4ms/sample - loss: 0.1374 - acc: 0.9538 - val_loss: 0.2551 - val_acc: 0.9240\n",
      "Epoch 22/30\n",
      " 2048/55000 [>.............................] - ETA: 3:12 - loss: 0.1051 - acc: 0.9639"
     ]
    },
    {
     "name": "stderr",
     "output_type": "stream",
     "text": [
      "IOPub message rate exceeded.\n",
      "The notebook server will temporarily stop sending output\n",
      "to the client in order to avoid crashing it.\n",
      "To change this limit, set the config variable\n",
      "`--NotebookApp.iopub_msg_rate_limit`.\n",
      "\n",
      "Current values:\n",
      "NotebookApp.iopub_msg_rate_limit=1000.0 (msgs/sec)\n",
      "NotebookApp.rate_limit_window=3.0 (secs)\n",
      "\n"
     ]
    },
    {
     "name": "stdout",
     "output_type": "stream",
     "text": [
      "55000/55000 [==============================] - 202s 4ms/sample - loss: 0.1111 - acc: 0.9627 - val_loss: 0.2696 - val_acc: 0.9214\n",
      "Epoch 26/30\n",
      "55000/55000 [==============================] - 203s 4ms/sample - loss: 0.1057 - acc: 0.9642 - val_loss: 0.2750 - val_acc: 0.9210\n",
      "Epoch 27/30\n",
      "10688/55000 [====>.........................] - ETA: 2:39 - loss: 0.0973 - acc: 0.9671"
     ]
    },
    {
     "name": "stderr",
     "output_type": "stream",
     "text": [
      "IOPub message rate exceeded.\n",
      "The notebook server will temporarily stop sending output\n",
      "to the client in order to avoid crashing it.\n",
      "To change this limit, set the config variable\n",
      "`--NotebookApp.iopub_msg_rate_limit`.\n",
      "\n",
      "Current values:\n",
      "NotebookApp.iopub_msg_rate_limit=1000.0 (msgs/sec)\n",
      "NotebookApp.rate_limit_window=3.0 (secs)\n",
      "\n"
     ]
    },
    {
     "name": "stdout",
     "output_type": "stream",
     "text": [
      "55000/55000 [==============================] - 203s 4ms/sample - loss: 0.0892 - acc: 0.9706 - val_loss: 0.2867 - val_acc: 0.9224\n"
     ]
    }
   ],
   "source": [
    "history = model.fit(X_train, y_train, epochs=20,validation_data=(X_Val, y_Val))\n"
   ]
  },
  {
   "cell_type": "markdown",
   "metadata": {},
   "source": [
    "# Monitoring the accuracy of training and test set\n",
    "We can see how the training accuracy and the alidation accuracy\n",
    " increase during training, while the loss value of training  and the validation\n",
    "decrease. "
   ]
  },
  {
   "cell_type": "code",
   "execution_count": 74,
   "metadata": {},
   "outputs": [
    {
     "data": {
      "image/png": "[encoded data removed]",
      "text/plain": [
       "<Figure size 576x360 with 1 Axes>"
      ]
     },
     "metadata": {
      "needs_background": "light"
     },
     "output_type": "display_data"
    }
   ],
   "source": [
    "pd.DataFrame(history.history).plot(figsize=(8, 5))\n",
    "plt.grid(True)\n",
    "plt.gca().set_ylim(0, 1) # set the vertical range to [0-1]\n",
    "plt.show()\n"
   ]
  },
  {
   "cell_type": "markdown",
   "metadata": {},
   "source": [
    "# ----------------------------------------------------- \n",
    "# Using the model to make predictions\n"
   ]
  },
  {
   "cell_type": "code",
   "execution_count": 76,
   "metadata": {},
   "outputs": [
    {
     "data": {
      "text/plain": [
       "array(['Ankle boot', 'Pullover', 'Trouser', 'Trouser', 'Shirt'],\n",
       "      dtype='<U11')"
      ]
     },
     "execution_count": 76,
     "metadata": {},
     "output_type": "execute_result"
    }
   ],
   "source": [
    "X_new = X_test[:5]\n",
    "y_pred = model.predict_classes(X_new)\n",
    "\n",
    "np.array(Objects)[y_pred]"
   ]
  },
  {
   "cell_type": "code",
   "execution_count": null,
   "metadata": {},
   "outputs": [],
   "source": []
  },
  {
   "cell_type": "code",
   "execution_count": null,
   "metadata": {},
   "outputs": [],
   "source": []
  }
 ],
 "metadata": {
  "kernelspec": {
   "display_name": "tensorflow_env",
   "language": "python",
   "name": "tensorflow_env"
  },
  "language_info": {
   "codemirror_mode": {
    "name": "ipython",
    "version": 3
   },
   "file_extension": ".py",
   "mimetype": "text/x-python",
   "name": "python",
   "nbconvert_exporter": "python",
   "pygments_lexer": "ipython3",
   "version": "3.7.6"
  }
 },
 "nbformat": 4,
 "nbformat_minor": 2
}
